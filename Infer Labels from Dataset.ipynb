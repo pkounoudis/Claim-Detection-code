{
 "cells": [
  {
   "cell_type": "code",
   "execution_count": 1,
   "id": "5ef78f8c",
   "metadata": {},
   "outputs": [
    {
     "name": "stderr",
     "output_type": "stream",
     "text": [
      "C:\\Users\\uc_ma\\anaconda3\\envs\\SciARK\\lib\\site-packages\\tqdm\\auto.py:22: TqdmWarning: IProgress not found. Please update jupyter and ipywidgets. See https://ipywidgets.readthedocs.io/en/stable/user_install.html\n",
      "  from .autonotebook import tqdm as notebook_tqdm\n"
     ]
    }
   ],
   "source": [
    "from tensorflow.keras.models import Sequential, model_from_json\n",
    "from tensorflow.keras.layers import Dense\n",
    "import numpy as np\n",
    "import os\n",
    "from keras.models import load_model\n",
    "\n",
    "import numpy as np\n",
    "from tensorflow.keras import layers, regularizers, initializers, constraints\n",
    "from tensorflow.keras import backend as K\n",
    "from tensorflow.keras.models import Model\n",
    "from tensorflow.keras.losses import CategoricalCrossentropy\n",
    "from tensorflow.keras.layers import *\n",
    "from keras_nlp import Glove\n",
    "import torch\n",
    "\n",
    "from scipy.special import softmax"
   ]
  },
  {
   "cell_type": "code",
   "execution_count": 2,
   "id": "46d59a36",
   "metadata": {},
   "outputs": [
    {
     "name": "stdout",
     "output_type": "stream",
     "text": [
      "Loaded model from disk\n"
     ]
    }
   ],
   "source": [
    "Context_encoder = load_model('trained_models/bert_based_context_encoder.h5')\n",
    "print(\"Loaded model from disk\")"
   ]
  },
  {
   "cell_type": "code",
   "execution_count": 3,
   "id": "c7e41e61",
   "metadata": {},
   "outputs": [],
   "source": [
    "from transformers import AutoTokenizer, AutoModel\n",
    "import torch\n",
    "\n",
    "device = torch.device(\"cuda\" if torch.cuda.is_available() else \"cpu\")\n",
    "bert_tokenizer = AutoTokenizer.from_pretrained('allenai/scibert_scivocab_uncased', model_max_length=512)\n",
    "bert_model = AutoModel.from_pretrained('allenai/scibert_scivocab_uncased').to(\n",
    "        device)"
   ]
  },
  {
   "cell_type": "code",
   "execution_count": 1,
   "id": "c6d913fd",
   "metadata": {},
   "outputs": [
    {
     "name": "stderr",
     "output_type": "stream",
     "text": [
      "C:\\Users\\uc_ma\\anaconda3\\envs\\SciARK\\lib\\site-packages\\tqdm\\auto.py:22: TqdmWarning: IProgress not found. Please update jupyter and ipywidgets. See https://ipywidgets.readthedocs.io/en/stable/user_install.html\n",
      "  from .autonotebook import tqdm as notebook_tqdm\n"
     ]
    },
    {
     "ename": "NameError",
     "evalue": "name 'bert_tokenizer' is not defined",
     "output_type": "error",
     "traceback": [
      "\u001b[1;31m---------------------------------------------------------------------------\u001b[0m",
      "\u001b[1;31mNameError\u001b[0m                                 Traceback (most recent call last)",
      "\u001b[1;32m~\\AppData\\Local\\Temp\\ipykernel_9036\\2745162831.py\u001b[0m in \u001b[0;36m<module>\u001b[1;34m\u001b[0m\n\u001b[0;32m     52\u001b[0m \u001b[1;33m\u001b[0m\u001b[0m\n\u001b[0;32m     53\u001b[0m \u001b[0mlist1\u001b[0m \u001b[1;33m=\u001b[0m \u001b[1;34m\"Intraoperative mitomycin versus postoperative 5-fluorouracil in high-risk glaucoma filtering surgery. In a randomized clinical trial, the authors compared the use of postoperative subconjunctival injections of 5-fluorouracil (5-FU) in 19 eyes with a single intraoperative application of subconjunctival mitomycin (MMC) at the filtering site in 20 eyes at high risk for failure of glaucoma filtering surgery. Six months after surgery, intraocular pressures averaged 10.9 +/- 5.3 mmHg (mean +/- standard deviation) in the MMC-treated eyes versus 14.2 +/- 5.5 mmHg in the 5-FU-treated eyes (P = 0.08) and were less than or equal to 12 mmHg in 60.0% of MMC-treated eyes and 21.1% of 5-FU-treated eyes (P = 0.03). Mitomycin-treated eyes were receiving an average of 0.3 +/- 0.5 medications for intraocular pressure control, and 5-FU-treated eyes were receiving an average of 1.1 +/- 1.1 medications (P = 0.01). Drug-induced corneal epithelial defects were seen in nine 5-FU-treated eyes and in no MMC-treated eyes (P = 0.0004). These results suggest that intraoperative MMC may be a viable alternative to postoperative 5-FU, with lower overall intraocular pressures, decreased dependence on postoperative ocular antihypertensive medications, and decreased corneal toxicity.\"\u001b[0m\u001b[1;33m\u001b[0m\u001b[1;33m\u001b[0m\u001b[0m\n\u001b[1;32m---> 54\u001b[1;33m \u001b[0mresults\u001b[0m \u001b[1;33m=\u001b[0m \u001b[0minfer_sent_labels\u001b[0m\u001b[1;33m(\u001b[0m\u001b[0mlist1\u001b[0m\u001b[1;33m)\u001b[0m\u001b[1;33m\u001b[0m\u001b[1;33m\u001b[0m\u001b[0m\n\u001b[0m\u001b[0;32m     55\u001b[0m \u001b[1;33m\u001b[0m\u001b[0m\n\u001b[0;32m     56\u001b[0m \u001b[0mlist2\u001b[0m \u001b[1;33m=\u001b[0m \u001b[1;34m\"Trabeculectomy with mitomycin. A comparative study with fluorouracil. We conducted a prospective, randomized study to compare mitomycin with fluorouracil for efficacy and safety as an adjunct to trabeculectomy in eyes with glaucoma with poor surgical prognosis. Thirty-two eyes of 32 patients were randomly allocated to either mitomycin (17 eyes) or fluorouracil therapy (15 eyes). Mitomycin (0.2 mg) was applied only once during trabeculectomy, and fluorouracil (5 mg) was subconjunctivally injected 10 times in the 2 weeks after surgery. Fifteen eyes (88%) in the mitomycin group and seven (47%) in the fluorouracil group achieved an intraocular pressure of less than or equal to 20 mm Hg without antiglaucoma medication. The follow-up period was 7 to 12 months. Corneal complications were less common in the group given mitomycin than in that given fluorouracil (12% vs 53%). The incidence of other complications was similar between the two groups.\"\u001b[0m\u001b[1;33m\u001b[0m\u001b[1;33m\u001b[0m\u001b[0m\n",
      "\u001b[1;32m~\\AppData\\Local\\Temp\\ipykernel_9036\\2745162831.py\u001b[0m in \u001b[0;36minfer_sent_labels\u001b[1;34m(text)\u001b[0m\n\u001b[0;32m     13\u001b[0m \u001b[1;33m\u001b[0m\u001b[0m\n\u001b[0;32m     14\u001b[0m     \u001b[1;31m#Encode text\u001b[0m\u001b[1;33m\u001b[0m\u001b[1;33m\u001b[0m\u001b[1;33m\u001b[0m\u001b[0m\n\u001b[1;32m---> 15\u001b[1;33m     \u001b[0mtext_encoded\u001b[0m \u001b[1;33m=\u001b[0m \u001b[1;33m[\u001b[0m\u001b[0mencode_text\u001b[0m\u001b[1;33m(\u001b[0m\u001b[0msentence\u001b[0m\u001b[1;33m,\u001b[0m \u001b[0mbert_tokenizer\u001b[0m\u001b[1;33m,\u001b[0m \u001b[0mbert_model\u001b[0m\u001b[1;33m,\u001b[0m \u001b[0mdevice\u001b[0m\u001b[1;33m)\u001b[0m \u001b[1;32mfor\u001b[0m \u001b[0msentence\u001b[0m \u001b[1;32min\u001b[0m \u001b[0mtext_splitted\u001b[0m\u001b[1;33m]\u001b[0m\u001b[1;33m\u001b[0m\u001b[1;33m\u001b[0m\u001b[0m\n\u001b[0m\u001b[0;32m     16\u001b[0m \u001b[1;33m\u001b[0m\u001b[0m\n\u001b[0;32m     17\u001b[0m     \u001b[1;31m#Pad text\u001b[0m\u001b[1;33m\u001b[0m\u001b[1;33m\u001b[0m\u001b[1;33m\u001b[0m\u001b[0m\n",
      "\u001b[1;32m~\\AppData\\Local\\Temp\\ipykernel_9036\\2745162831.py\u001b[0m in \u001b[0;36m<listcomp>\u001b[1;34m(.0)\u001b[0m\n\u001b[0;32m     13\u001b[0m \u001b[1;33m\u001b[0m\u001b[0m\n\u001b[0;32m     14\u001b[0m     \u001b[1;31m#Encode text\u001b[0m\u001b[1;33m\u001b[0m\u001b[1;33m\u001b[0m\u001b[1;33m\u001b[0m\u001b[0m\n\u001b[1;32m---> 15\u001b[1;33m     \u001b[0mtext_encoded\u001b[0m \u001b[1;33m=\u001b[0m \u001b[1;33m[\u001b[0m\u001b[0mencode_text\u001b[0m\u001b[1;33m(\u001b[0m\u001b[0msentence\u001b[0m\u001b[1;33m,\u001b[0m \u001b[0mbert_tokenizer\u001b[0m\u001b[1;33m,\u001b[0m \u001b[0mbert_model\u001b[0m\u001b[1;33m,\u001b[0m \u001b[0mdevice\u001b[0m\u001b[1;33m)\u001b[0m \u001b[1;32mfor\u001b[0m \u001b[0msentence\u001b[0m \u001b[1;32min\u001b[0m \u001b[0mtext_splitted\u001b[0m\u001b[1;33m]\u001b[0m\u001b[1;33m\u001b[0m\u001b[1;33m\u001b[0m\u001b[0m\n\u001b[0m\u001b[0;32m     16\u001b[0m \u001b[1;33m\u001b[0m\u001b[0m\n\u001b[0;32m     17\u001b[0m     \u001b[1;31m#Pad text\u001b[0m\u001b[1;33m\u001b[0m\u001b[1;33m\u001b[0m\u001b[1;33m\u001b[0m\u001b[0m\n",
      "\u001b[1;31mNameError\u001b[0m: name 'bert_tokenizer' is not defined"
     ]
    }
   ],
   "source": [
    "#Inference Function\n",
    "from infer_library import *\n",
    "import numpy as np\n",
    "\n",
    "Sentence_splitter = SentenceSplitter()\n",
    "\n",
    "def infer_sent_labels(text):\n",
    "    #Argument Labels.\n",
    "    label2id = {0: 'PAD', 1: 'NONE', 2: 'EVIDENCE', 3: 'CLAIM'}\n",
    "\n",
    "    #Split text in sentences\n",
    "    text_splitted = Sentence_splitter.tokenize(text)\n",
    "\n",
    "    #Encode text \n",
    "    text_encoded = [encode_text(sentence, bert_tokenizer, bert_model, device) for sentence in text_splitted]\n",
    "\n",
    "    #Pad text\n",
    "    max_sentences = 20\n",
    "    text_encoded_padded = pad_array(np.stack(text_encoded), max_sentences) #2D Array\n",
    "\n",
    "    #Create a tensor in order to have a valid input for Context encoder (#always 1 doc, #sentences, 768)\n",
    "    tensor_final = np.expand_dims(text_encoded_padded, axis=0)\n",
    "\n",
    "    #Make predictions for sentences --> type = ndarray\n",
    "    predictions = Context_encoder.predict(tensor_final)\n",
    "    \n",
    "    #Reduce dimensions to 2\n",
    "    reduced_predictions = np.squeeze(predictions)\n",
    "\n",
    "    #Turn ndarray to list\n",
    "    new_predictions_as_list = reduced_predictions.tolist()\n",
    "    \n",
    "    #Keep just valid sentences' scores and not padded scores i.e. \"PAD\" sents' scores\n",
    "    final_predictions = new_predictions_as_list[20 - (len(text_splitted)):]\n",
    "\n",
    "    #Run Softmax\n",
    "    labels = softmax(predictions).argmax(-1)\n",
    "    print(labels)\n",
    "\n",
    "    #Return results\n",
    "    labels_new = []\n",
    "    for array in labels:\n",
    "        for number in array:\n",
    "            labels_new.append(label2id[number])\n",
    "\n",
    "    labels_new_truncated = labels_new[20 - (len(text_splitted)):]\n",
    "    results = dict(zip(text_splitted, labels_new_truncated))\n",
    "    results[\"scores\"] = final_predictions\n",
    "\n",
    "    return results\n",
    "\n",
    "\n",
    "# list1 = \"Intraoperative mitomycin versus postoperative 5-fluorouracil in high-risk glaucoma filtering surgery. In a randomized clinical trial, the authors compared the use of postoperative subconjunctival injections of 5-fluorouracil (5-FU) in 19 eyes with a single intraoperative application of subconjunctival mitomycin (MMC) at the filtering site in 20 eyes at high risk for failure of glaucoma filtering surgery. Six months after surgery, intraocular pressures averaged 10.9 +/- 5.3 mmHg (mean +/- standard deviation) in the MMC-treated eyes versus 14.2 +/- 5.5 mmHg in the 5-FU-treated eyes (P = 0.08) and were less than or equal to 12 mmHg in 60.0% of MMC-treated eyes and 21.1% of 5-FU-treated eyes (P = 0.03). Mitomycin-treated eyes were receiving an average of 0.3 +/- 0.5 medications for intraocular pressure control, and 5-FU-treated eyes were receiving an average of 1.1 +/- 1.1 medications (P = 0.01). Drug-induced corneal epithelial defects were seen in nine 5-FU-treated eyes and in no MMC-treated eyes (P = 0.0004). These results suggest that intraoperative MMC may be a viable alternative to postoperative 5-FU, with lower overall intraocular pressures, decreased dependence on postoperative ocular antihypertensive medications, and decreased corneal toxicity.\"\n",
    "# results = infer_sent_labels(list1)\n",
    "\n",
    "# list2 = \"Trabeculectomy with mitomycin. A comparative study with fluorouracil. We conducted a prospective, randomized study to compare mitomycin with fluorouracil for efficacy and safety as an adjunct to trabeculectomy in eyes with glaucoma with poor surgical prognosis. Thirty-two eyes of 32 patients were randomly allocated to either mitomycin (17 eyes) or fluorouracil therapy (15 eyes). Mitomycin (0.2 mg) was applied only once during trabeculectomy, and fluorouracil (5 mg) was subconjunctivally injected 10 times in the 2 weeks after surgery. Fifteen eyes (88%) in the mitomycin group and seven (47%) in the fluorouracil group achieved an intraocular pressure of less than or equal to 20 mm Hg without antiglaucoma medication. The follow-up period was 7 to 12 months. Corneal complications were less common in the group given mitomycin than in that given fluorouracil (12% vs 53%). The incidence of other complications was similar between the two groups.\"\n",
    "# results2 = infer_sent_labels(list2)"
   ]
  },
  {
   "cell_type": "code",
   "execution_count": 16,
   "id": "537af147",
   "metadata": {
    "scrolled": true
   },
   "outputs": [
    {
     "name": "stdout",
     "output_type": "stream",
     "text": [
      "Please enter a string\n",
      "1/1 [==============================] - 0s 15ms/step\n",
      "[[0 0 0 0 0 0 0 0 0 0 0 0 0 0 1 1 1 2 2 3]]\n",
      "{'Intraoperative mitomycin versus postoperative 5-fluorouracil in high-risk glaucoma filtering surgery.': 'NONE', 'In a randomized clinical trial, the authors compared the use of postoperative subconjunctival injections of 5-fluorouracil (5-FU) in 19 eyes with a single intraoperative application of subconjunctival mitomycin (MMC) at the filtering site in 20 eyes at high risk for failure of glaucoma filtering surgery.': 'NONE', 'Six months after surgery, intraocular pressures averaged 10.9 +/- 5.3 mmHg (mean +/- standard deviation) in the MMC-treated eyes versus 14.2 +/- 5.5 mmHg in the 5-FU-treated eyes (P = 0.08) and were less than or equal to 12 mmHg in 60.0% of MMC-treated eyes and 21.1% of 5-FU-treated eyes (P = 0.03).': 'NONE', 'Mitomycin-treated eyes were receiving an average of 0.3 +/- 0.5 medications for intraocular pressure control, and 5-FU-treated eyes were receiving an average of 1.1 +/- 1.1 medications (P = 0.01).': 'EVIDENCE', 'Drug-induced corneal epithelial defects were seen in nine 5-FU-treated eyes and in no MMC-treated eyes (P = 0.0004).': 'EVIDENCE', 'These results suggest that intraoperative MMC may be a viable alternative to postoperative 5-FU, with lower overall intraocular pressures, decreased dependence on postoperative ocular antihypertensive medications, and decreased corneal toxicity.': 'CLAIM'}\n",
      "Please enter a string\n",
      "1/1 [==============================] - 0s 16ms/step\n",
      "[[0 0 0 0 0 0 0 0 0 0 0 1 1 1 1 1 1 1 2 1]]\n",
      "{'Trabeculectomy with mitomycin.': 'NONE', 'A comparative study with fluorouracil.': 'NONE', 'We conducted a prospective, randomized study to compare mitomycin with fluorouracil for efficacy and safety as an adjunct to trabeculectomy in eyes with glaucoma with poor surgical prognosis.': 'NONE', 'Thirty-two eyes of 32 patients were randomly allocated to either mitomycin (17 eyes) or fluorouracil therapy (15 eyes).': 'NONE', 'Mitomycin (0.2 mg) was applied only once during trabeculectomy, and fluorouracil (5 mg) was subconjunctivally injected 10 times in the 2 weeks after surgery.': 'NONE', 'Fifteen eyes (88%) in the mitomycin group and seven (47%) in the fluorouracil group achieved an intraocular pressure of less than or equal to 20 mm Hg without antiglaucoma medication.': 'NONE', 'The follow-up period was 7 to 12 months.': 'NONE', 'Corneal complications were less common in the group given mitomycin than in that given fluorouracil (12% vs 53%).': 'EVIDENCE', 'The incidence of other complications was similar between the two groups.': 'NONE'}\n"
     ]
    }
   ],
   "source": [
    "list1 = \"Intraoperative mitomycin versus postoperative 5-fluorouracil in high-risk glaucoma filtering surgery. In a randomized clinical trial, the authors compared the use of postoperative subconjunctival injections of 5-fluorouracil (5-FU) in 19 eyes with a single intraoperative application of subconjunctival mitomycin (MMC) at the filtering site in 20 eyes at high risk for failure of glaucoma filtering surgery. Six months after surgery, intraocular pressures averaged 10.9 +/- 5.3 mmHg (mean +/- standard deviation) in the MMC-treated eyes versus 14.2 +/- 5.5 mmHg in the 5-FU-treated eyes (P = 0.08) and were less than or equal to 12 mmHg in 60.0% of MMC-treated eyes and 21.1% of 5-FU-treated eyes (P = 0.03). Mitomycin-treated eyes were receiving an average of 0.3 +/- 0.5 medications for intraocular pressure control, and 5-FU-treated eyes were receiving an average of 1.1 +/- 1.1 medications (P = 0.01). Drug-induced corneal epithelial defects were seen in nine 5-FU-treated eyes and in no MMC-treated eyes (P = 0.0004). These results suggest that intraoperative MMC may be a viable alternative to postoperative 5-FU, with lower overall intraocular pressures, decreased dependence on postoperative ocular antihypertensive medications, and decreased corneal toxicity.\"\n",
    "results = infer_sent_labels(list1)\n",
    "print(results)\n",
    "\n",
    "list2 = \"Trabeculectomy with mitomycin. A comparative study with fluorouracil. We conducted a prospective, randomized study to compare mitomycin with fluorouracil for efficacy and safety as an adjunct to trabeculectomy in eyes with glaucoma with poor surgical prognosis. Thirty-two eyes of 32 patients were randomly allocated to either mitomycin (17 eyes) or fluorouracil therapy (15 eyes). Mitomycin (0.2 mg) was applied only once during trabeculectomy, and fluorouracil (5 mg) was subconjunctivally injected 10 times in the 2 weeks after surgery. Fifteen eyes (88%) in the mitomycin group and seven (47%) in the fluorouracil group achieved an intraocular pressure of less than or equal to 20 mm Hg without antiglaucoma medication. The follow-up period was 7 to 12 months. Corneal complications were less common in the group given mitomycin than in that given fluorouracil (12% vs 53%). The incidence of other complications was similar between the two groups.\"\n",
    "results2 = infer_sent_labels(list2)\n",
    "print(results2)"
   ]
  },
  {
   "cell_type": "code",
   "execution_count": 17,
   "id": "27aa0647",
   "metadata": {},
   "outputs": [
    {
     "name": "stdout",
     "output_type": "stream",
     "text": [
      "<class 'dict'>\n"
     ]
    }
   ],
   "source": [
    "import json\n",
    "\n",
    "with open('C:\\\\Users\\\\uc_ma\\\\Desktop\\\\Διπλωματική Εργασία NLP\\\\scientific_articles_to_infer_for_claim_detection\\\\food_pubs_to_infer_for_claim_detection.json', 'r') as d:\n",
    "    dictData = json.load(d)\n",
    "    print(type(dictData))"
   ]
  },
  {
   "cell_type": "code",
   "execution_count": 19,
   "id": "34b0faf9",
   "metadata": {},
   "outputs": [
    {
     "name": "stdout",
     "output_type": "stream",
     "text": [
      "1/1 [==============================] - 0s 19ms/step\n",
      "[[0 0 0 0 0 0 0 0 0 1 1 1 1 2 1 2 1 2 1 3]]\n",
      "1/1 [==============================] - 0s 19ms/step\n",
      "[[0 0 0 0 1 1 1 1 1 1 1 1 1 2 1 1 1 1 3 1]]\n",
      "1/1 [==============================] - 0s 22ms/step\n",
      "[[0 0 0 0 0 0 0 0 0 0 1 1 1 1 1 1 1 1 1 3]]\n",
      "1/1 [==============================] - 0s 19ms/step\n",
      "[[1 1 1 1 1 1 1 1 1 1 1 1 1 1 1 1 1 1 2 3]]\n",
      "1/1 [==============================] - 0s 24ms/step\n",
      "[[0 0 0 0 0 0 1 1 1 1 1 1 1 1 2 2 2 2 1 3]]\n",
      "1/1 [==============================] - 0s 23ms/step\n",
      "[[0 0 0 0 0 0 0 0 0 1 1 1 1 1 1 2 2 1 3 3]]\n",
      "1/1 [==============================] - 0s 22ms/step\n",
      "[[0 0 0 0 0 0 0 0 0 0 1 1 1 1 1 2 1 1 1 3]]\n",
      "1/1 [==============================] - 0s 17ms/step\n",
      "[[0 0 0 0 0 0 0 0 0 0 0 0 0 0 0 0 0 0 1 1]]\n",
      "1/1 [==============================] - 0s 19ms/step\n",
      "[[0 0 0 0 0 0 0 0 1 1 1 1 1 1 1 1 1 1 1 1]]\n",
      "1/1 [==============================] - 0s 19ms/step\n",
      "[[0 0 0 0 0 0 0 0 0 0 0 0 0 0 0 0 0 0 1 1]]\n",
      "1/1 [==============================] - 0s 20ms/step\n",
      "[[0 0 0 0 0 0 0 0 0 1 1 1 1 1 1 1 1 1 1 3]]\n",
      "1/1 [==============================] - 0s 21ms/step\n",
      "[[0 0 0 0 0 0 0 0 0 0 0 1 1 1 1 1 1 1 3 1]]\n",
      "1/1 [==============================] - 0s 18ms/step\n",
      "[[0 0 0 0 0 0 0 0 0 0 0 0 0 1 1 1 1 1 1 1]]\n",
      "1/1 [==============================] - 0s 18ms/step\n",
      "[[0 0 0 0 0 0 0 0 0 0 1 1 1 1 1 1 1 2 1 3]]\n",
      "1/1 [==============================] - 0s 16ms/step\n",
      "[[0 0 0 0 0 0 0 0 0 1 1 1 1 1 1 1 1 2 1 1]]\n",
      "1/1 [==============================] - 0s 23ms/step\n",
      "[[0 0 0 0 0 0 0 0 0 0 0 0 0 0 0 0 1 1 1 3]]\n"
     ]
    }
   ],
   "source": [
    "#Inference routine\n",
    "\n",
    "final_results = {}\n",
    "from langdetect import detect\n",
    "                \n",
    "for i in dictData.keys(): #το doi είναι το i, το κρατάω\n",
    "    exp_dict = {}\n",
    "    if count <= 20: #number of texts to infer\n",
    "        exp2_dict = {}\n",
    "        if not isinstance(dictData[i], list):\n",
    "            if dictData[i][\"abstract\"]:\n",
    "                if detect(dictData[i][\"abstract\"]) == \"en\": \n",
    "                    for key, value in dictData[i].items():\n",
    "                        exp2_dict.update({key:value})\n",
    "                    exp_dict[i] = exp2_dict  \n",
    "                    exp_dict[i][\"sentences\"] = infer_sent_labels(exp_dict[i][\"abstract\"])\n",
    "                    final_results.update(exp_dict)\n",
    "                    count += 1"
   ]
  },
  {
   "cell_type": "code",
   "execution_count": 20,
   "id": "dc835ac2",
   "metadata": {},
   "outputs": [],
   "source": [
    "with open(\"with_scores_sample_food.json\", \"w\") as outfile:\n",
    "    json.dump(final_results, outfile)"
   ]
  }
 ],
 "metadata": {
  "kernelspec": {
   "display_name": "SciARK",
   "language": "python",
   "name": "sciark"
  },
  "language_info": {
   "codemirror_mode": {
    "name": "ipython",
    "version": 3
   },
   "file_extension": ".py",
   "mimetype": "text/x-python",
   "name": "python",
   "nbconvert_exporter": "python",
   "pygments_lexer": "ipython3",
   "version": "3.7.13"
  }
 },
 "nbformat": 4,
 "nbformat_minor": 5
}
